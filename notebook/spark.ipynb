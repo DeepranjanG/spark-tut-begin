{
 "cells": [
  {
   "cell_type": "code",
   "execution_count": 1,
   "metadata": {},
   "outputs": [
    {
     "name": "stderr",
     "output_type": "stream",
     "text": [
      "Setting default log level to \"WARN\".\n",
      "To adjust logging level use sc.setLogLevel(newLevel). For SparkR, use setLogLevel(newLevel).\n",
      "22/12/18 14:19:18 WARN NativeCodeLoader: Unable to load native-hadoop library for your platform... using builtin-java classes where applicable\n"
     ]
    }
   ],
   "source": [
    "from pyspark.sql import SparkSession\n",
    "spark = SparkSession.builder.master(\"spark://localhost:7077\").appName(\"demo\").getOrCreate()"
   ]
  },
  {
   "cell_type": "code",
   "execution_count": 7,
   "metadata": {},
   "outputs": [
    {
     "name": "stderr",
     "output_type": "stream",
     "text": [
      "22/12/18 14:29:15 WARN package: Truncated the string representation of a plan since it was too large. This behavior can be adjusted by setting 'spark.sql.debug.maxToStringFields'.\n",
      "                                                                                \r"
     ]
    },
    {
     "name": "stdout",
     "output_type": "stream",
     "text": [
      "+------------+-----------+---------+-----------------+------------------+--------------------+--------------------+--------------------+--------------------+------+--------+------+----+-------+--------------+--------------------+-----------------+--------------------+--------------------+------------------+------------------+---------------+------------+-----+-------+--------------------+-------------+----+--------------------+--------------------+------------------+--------------------+--------------+--------------------+------------+----------------+\n",
      "|         _c0|        _c1|      _c2|              _c3|               _c4|                 _c5|                 _c6|                 _c7|                 _c8|   _c9|    _c10|  _c11|_c12|   _c13|          _c14|                _c15|             _c16|                _c17|                _c18|              _c19|              _c20|           _c21|        _c22| _c23|   _c24|                _c25|         _c26|_c27|                _c28|                _c29|              _c30|                _c31|          _c32|                _c33|        _c34|            _c35|\n",
      "+------------+-----------+---------+-----------------+------------------+--------------------+--------------------+--------------------+--------------------+------+--------+------+----+-------+--------------+--------------------+-----------------+--------------------+--------------------+------------------+------------------+---------------+------------+-----+-------+--------------------+-------------+----+--------------------+--------------------+------------------+--------------------+--------------+--------------------+------------+----------------+\n",
      "|       hotel|is_canceled|lead_time|arrival_date_year|arrival_date_month|arrival_date_week...|arrival_date_day_...|stays_in_weekend_...|stays_in_week_nights|adults|children|babies|meal|country|market_segment|distribution_channel|is_repeated_guest|previous_cancella...|previous_bookings...|reserved_room_type|assigned_room_type|booking_changes|deposit_type|agent|company|days_in_waiting_list|customer_type| adr|required_car_park...|total_of_special_...|reservation_status|reservation_statu...|          name|               email|phone-number|     credit_card|\n",
      "|Resort Hotel|          0|      342|             2015|              July|                  27|                   1|                   0|                   0|     2|     0.0|     0|  BB|    PRT|        Direct|              Direct|                0|                   0|                   0|                 C|                 C|              3|  No Deposit| null|   null|                   0|    Transient| 0.0|                   0|                   0|         Check-Out|          2015-07-01| Ernest Barnes|Ernest.Barnes31@o...|669-792-1661|************4322|\n",
      "|Resort Hotel|          0|      737|             2015|              July|                  27|                   1|                   0|                   0|     2|     0.0|     0|  BB|    PRT|        Direct|              Direct|                0|                   0|                   0|                 C|                 C|              4|  No Deposit| null|   null|                   0|    Transient| 0.0|                   0|                   0|         Check-Out|          2015-07-01|  Andrea Baker|Andrea_Baker94@ao...|858-637-6955|************9157|\n",
      "|Resort Hotel|          0|        7|             2015|              July|                  27|                   1|                   0|                   1|     1|     0.0|     0|  BB|    GBR|        Direct|              Direct|                0|                   0|                   0|                 A|                 C|              0|  No Deposit| null|   null|                   0|    Transient|75.0|                   0|                   0|         Check-Out|          2015-07-02|Rebecca Parker|Rebecca_Parker@co...|652-885-2745|************3734|\n",
      "|Resort Hotel|          0|       13|             2015|              July|                  27|                   1|                   0|                   1|     1|     0.0|     0|  BB|    GBR|     Corporate|           Corporate|                0|                   0|                   0|                 A|                 A|              0|  No Deposit|304.0|   null|                   0|    Transient|75.0|                   0|                   0|         Check-Out|          2015-07-02|  Laura Murray|   Laura_M@gmail.com|364-656-8427|************5677|\n",
      "+------------+-----------+---------+-----------------+------------------+--------------------+--------------------+--------------------+--------------------+------+--------+------+----+-------+--------------+--------------------+-----------------+--------------------+--------------------+------------------+------------------+---------------+------------+-----+-------+--------------------+-------------+----+--------------------+--------------------+------------------+--------------------+--------------+--------------------+------------+----------------+\n",
      "only showing top 5 rows\n",
      "\n"
     ]
    }
   ],
   "source": [
    "df = spark.read.csv(\"hdfs://localhost/hotel_booking.csv\")\n",
    "df.show(5)"
   ]
  },
  {
   "cell_type": "code",
   "execution_count": 8,
   "metadata": {},
   "outputs": [
    {
     "name": "stdout",
     "output_type": "stream",
     "text": [
      "root\n",
      " |-- _c0: string (nullable = true)\n",
      " |-- _c1: string (nullable = true)\n",
      " |-- _c2: string (nullable = true)\n",
      " |-- _c3: string (nullable = true)\n",
      " |-- _c4: string (nullable = true)\n",
      " |-- _c5: string (nullable = true)\n",
      " |-- _c6: string (nullable = true)\n",
      " |-- _c7: string (nullable = true)\n",
      " |-- _c8: string (nullable = true)\n",
      " |-- _c9: string (nullable = true)\n",
      " |-- _c10: string (nullable = true)\n",
      " |-- _c11: string (nullable = true)\n",
      " |-- _c12: string (nullable = true)\n",
      " |-- _c13: string (nullable = true)\n",
      " |-- _c14: string (nullable = true)\n",
      " |-- _c15: string (nullable = true)\n",
      " |-- _c16: string (nullable = true)\n",
      " |-- _c17: string (nullable = true)\n",
      " |-- _c18: string (nullable = true)\n",
      " |-- _c19: string (nullable = true)\n",
      " |-- _c20: string (nullable = true)\n",
      " |-- _c21: string (nullable = true)\n",
      " |-- _c22: string (nullable = true)\n",
      " |-- _c23: string (nullable = true)\n",
      " |-- _c24: string (nullable = true)\n",
      " |-- _c25: string (nullable = true)\n",
      " |-- _c26: string (nullable = true)\n",
      " |-- _c27: string (nullable = true)\n",
      " |-- _c28: string (nullable = true)\n",
      " |-- _c29: string (nullable = true)\n",
      " |-- _c30: string (nullable = true)\n",
      " |-- _c31: string (nullable = true)\n",
      " |-- _c32: string (nullable = true)\n",
      " |-- _c33: string (nullable = true)\n",
      " |-- _c34: string (nullable = true)\n",
      " |-- _c35: string (nullable = true)\n",
      "\n"
     ]
    }
   ],
   "source": [
    "df.printSchema()"
   ]
  },
  {
   "cell_type": "code",
   "execution_count": null,
   "metadata": {},
   "outputs": [],
   "source": []
  }
 ],
 "metadata": {
  "kernelspec": {
   "display_name": "Python 3.9.13 ('base')",
   "language": "python",
   "name": "python3"
  },
  "language_info": {
   "codemirror_mode": {
    "name": "ipython",
    "version": 3
   },
   "file_extension": ".py",
   "mimetype": "text/x-python",
   "name": "python",
   "nbconvert_exporter": "python",
   "pygments_lexer": "ipython3",
   "version": "3.9.13"
  },
  "orig_nbformat": 4,
  "vscode": {
   "interpreter": {
    "hash": "ba7d6a92d9c7295bfdcfceb88786d0d9300abf0a1802f116b1f16ab64cdf39a0"
   }
  }
 },
 "nbformat": 4,
 "nbformat_minor": 2
}
